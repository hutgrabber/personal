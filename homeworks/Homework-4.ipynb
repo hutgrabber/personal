{
  "cells": [
    {
      "cell_type": "markdown",
      "metadata": {},
      "source": [
        "## Homework 5\n",
        "### Review the example usages of the RSA-related operations of the Crypto package given below and refer to online documentation of the package and google search for learning more about it.\n",
        "\n",
        "### 1- Generate RSA Keypair of size 2048 bits.\n",
        "### 2- Write python program with the following functions: rsa_enc_public() for Encryption and  rsa_dec_private() for Decryption. \n",
        "\n",
        " "
      ]
    },
    {
      "cell_type": "code",
      "execution_count": null,
      "metadata": {
        "id": "hLL3pTQWp-vk"
      },
      "outputs": [],
      "source": [
        "#Install this library first before using the \"Crypto\" library just like the previous homework.\n",
        "\n",
        "!pip install pycryptodome"
      ]
    },
    {
      "cell_type": "code",
      "execution_count": null,
      "metadata": {
        "id": "PKzXFUu0VC7i"
      },
      "outputs": [],
      "source": [
        "#You need to include only these 2 functions in your homework.\n",
        "\n",
        "def rsa_enc_public(inputblock, keypair):\n",
        "    # inputblock is a plaintext defined as a byte sequence\n",
        "    # ciphertext is the encrypted data as byte sequence encrypted using the public key\n",
        "    \n",
        "    return ciphertext\n",
        "\n",
        "def rsa_dec_private(cipherblock, keypair):\n",
        "    # cipherblock is a given ciphertext defined as a byte sequence\n",
        "    # plaintext is the decrypted data as byte sequence decrypted using the private key\n",
        "    \n",
        "    return plaintext\n",
        "\n",
        "    "
      ]
    },
    {
      "cell_type": "markdown",
      "metadata": {
        "id": "HAKYTBRirGdj"
      },
      "source": [
        "###The code cell below shows how to generate a pair of public and private key of 2048 bits to test your rsa_enc_public() and rsa_dec_private() functions that accept the keypair as their second argument."
      ]
    },
    {
      "cell_type": "code",
      "execution_count": 4,
      "metadata": {
        "colab": {
          "base_uri": "https://localhost:8080/"
        },
        "id": "WFZWL3dOVC7l",
        "outputId": "f6229e70-023b-4958-9466-01c26dc4f4a6"
      },
      "outputs": [
        {
          "name": "stdout",
          "output_type": "stream",
          "text": [
            "Public key:  (n=0xd8e490c973c961b5218d0db74ef5984cc8d39ba819b7b3cdaedb45f3078a6933b33bdc002c91c338b127b5ff7cede474d2da6c441f68f255d66fd51383214d65188461268691d1373ac326e1fc8cd4c5aa02d84e13cfef47eed0ab357173b23c24223b3826d65e3230e9764e9df80af48db097d875c78206ecfc025d5a7791933b8461622021394a8d465d3c8e41e2429c997ae547005e7d3236b35c675d192a78e654751c495733eb7b63c41533f5365bcba6d31e4eb62c60f30011e0762969493d336382b5e22ffaec35e27b2a17de593206e0e7bcf11e75f71e9e228b4595236eabd903527d9584fe5e3309dd95071fd745c4de0feddbc744ca70a06415e9, e=0x10001)\n",
            "Private key: (n=0xd8e490c973c961b5218d0db74ef5984cc8d39ba819b7b3cdaedb45f3078a6933b33bdc002c91c338b127b5ff7cede474d2da6c441f68f255d66fd51383214d65188461268691d1373ac326e1fc8cd4c5aa02d84e13cfef47eed0ab357173b23c24223b3826d65e3230e9764e9df80af48db097d875c78206ecfc025d5a7791933b8461622021394a8d465d3c8e41e2429c997ae547005e7d3236b35c675d192a78e654751c495733eb7b63c41533f5365bcba6d31e4eb62c60f30011e0762969493d336382b5e22ffaec35e27b2a17de593206e0e7bcf11e75f71e9e228b4595236eabd903527d9584fe5e3309dd95071fd745c4de0feddbc744ca70a06415e9, d=0x73df080ad7b4ca623e1e612981216bcff9aa330a475300d7ed866f843a8f134cef801734709b1eb476d04446cdb339cdbfa7b9175bc07156b24ce4849c157a877be59d113beb42de42a2676f6bc0c11b288c848a91c3108e596359541fdc336835d5a3d587ca1660b208c78f908d272d2755248a1bc20e112d2225114277866929a348d07456b906c9581b5c4e78cc9518ca616236a1617d7edcd88e85b4f659adca3564e483b5fd91a1aa7eb9fc791ea515d9cdc47d56c7e0fdf38bf250153e014e81a15c02a06f49385dcaeb1f5c9a83fff97a58eb640678f3575ecce947e4af679f5cb50f939aef6e947a98781befbfdfed096c273fabfc83b411a3c15d5)\n"
          ]
        }
      ],
      "source": [
        "# Don't include this section of code in your homework.\n",
        "# Homework 5: Experiments with RSA\n",
        "from Crypto.PublicKey import RSA\n",
        "from Crypto.Cipher import PKCS1_v1_5\n",
        "import binascii\n",
        "\n",
        "keyPair = RSA.generate(2048)    #This line generates the keypair.\n",
        "\n",
        "\n",
        "# The following lines of code print the extracted keys from the keypair\n",
        "pubKey = keyPair.publickey()\n",
        "print(f\"Public key:  (n={hex(pubKey.n)}, e={hex(pubKey.e)})\")\n",
        "pubKeyPEM = pubKey.exportKey()\n",
        "#print(pubKeyPEM.decode('ascii'))\n",
        "\n",
        "print(f\"Private key: (n={hex(pubKey.n)}, d={hex(keyPair.d)})\")\n",
        "privKeyPEM = keyPair.exportKey()\n",
        "#print(privKeyPEM.decode('ascii'))\n",
        "\n"
      ]
    },
    {
      "cell_type": "markdown",
      "metadata": {},
      "source": [
        "Using the above keypair and the given inputblock, rsa_enc_public() and rsa_dec_private() functions will display the below results:"
      ]
    },
    {
      "cell_type": "code",
      "execution_count": 21,
      "metadata": {
        "colab": {
          "base_uri": "https://localhost:8080/"
        },
        "id": "ohRb41NXVC76",
        "outputId": "b9db1c0f-bc2b-40f7-f58e-717cb05c22b9"
      },
      "outputs": [
        {
          "name": "stdout",
          "output_type": "stream",
          "text": [
            "Encrypted: b'c13482c0636727076006417d082d93f9339500f73c799cea798b102729f4af7b3c48896f0145cbae5c27945f20823ecd452c15d0e6afeb6a99b880cec6eb4f30427993e5f6160c453031104018105e066b32be5ab8dca7cb095bd80e3474daa7ce82bc5b6162ff704cb47cff6d41a0b6c91fe46f7a5e5bd126adae1764d7218d858c3df0a8e08cc29c9cef9ed37224544c3d2673b554d1b2b36a6e58b28b63bdaf9609aa6ed5f3a2a65f4a3131558d0a912a8d7c0c9e2a1b686749d5c96cda8a5215726dc22439b40ccd9db97ea419f23ebaa553c529efb48b361516c17a8051fc17d4a64d6ad7aa5d5b74c59683b7e2d3277149af39b3832b768790b4e22ad9'\n"
          ]
        }
      ],
      "source": [
        "# Encryption using RSA\n",
        "msg = b'A message for encryption'\n",
        "encryptor = PKCS1_v1_5.new(pubKey)  #The variable pubKey was derived from the keyPair variable in the above code cell.\n",
        "encrypted = encryptor.encrypt(msg)\n",
        "print(\"Encrypted:\", binascii.hexlify(encrypted))"
      ]
    },
    {
      "cell_type": "code",
      "execution_count": 22,
      "metadata": {
        "colab": {
          "base_uri": "https://localhost:8080/"
        },
        "id": "niiuizQwVC77",
        "outputId": "c15a21b2-5d04-4daf-e178-150a3a2feac9"
      },
      "outputs": [
        {
          "name": "stdout",
          "output_type": "stream",
          "text": [
            "Decrypted: b'A message for encryption'\n"
          ]
        }
      ],
      "source": [
        "# Decryption of RSA\n",
        "decryptor = PKCS1_v1_5.new(keyPair)\n",
        "decrypted = decryptor.decrypt(encrypted, None)\n",
        "print('Decrypted:', decrypted)"
      ]
    }
  ],
  "metadata": {
    "colab": {
      "collapsed_sections": [],
      "name": "Homework 5.ipynb",
      "provenance": []
    },
    "kernelspec": {
      "display_name": "Python 3",
      "name": "python3"
    },
    "language_info": {
      "name": "python"
    }
  },
  "nbformat": 4,
  "nbformat_minor": 0
}
