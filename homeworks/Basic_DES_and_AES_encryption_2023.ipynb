{
  "nbformat": 4,
  "nbformat_minor": 0,
  "metadata": {
    "colab": {
      "provenance": []
    },
    "kernelspec": {
      "name": "python3",
      "display_name": "Python 3"
    }
  },
  "cells": [
    {
      "cell_type": "code",
      "metadata": {
        "id": "sJi0PUPdM4db",
        "colab": {
          "base_uri": "https://localhost:8080/"
        },
        "outputId": "ad0c17ac-ff0d-4313-daef-822fd13f5802"
      },
      "source": [
        "#!pip install pycryptodome\n",
        "from Crypto.Cipher import DES, AES\n",
        "from Crypto.Util.Padding import pad, unpad\n",
        "from Crypto.Random import get_random_bytes\n"
      ],
      "execution_count": 1,
      "outputs": [
        {
          "output_type": "stream",
          "name": "stdout",
          "text": [
            "Looking in indexes: https://pypi.org/simple, https://us-python.pkg.dev/colab-wheels/public/simple/\n",
            "Collecting pycryptodome\n",
            "  Downloading pycryptodome-3.17-cp35-abi3-manylinux_2_17_x86_64.manylinux2014_x86_64.whl (2.1 MB)\n",
            "\u001b[2K     \u001b[90m━━━━━━━━━━━━━━━━━━━━━━━━━━━━━━━━━━━━━━━━\u001b[0m \u001b[32m2.1/2.1 MB\u001b[0m \u001b[31m67.8 MB/s\u001b[0m eta \u001b[36m0:00:00\u001b[0m\n",
            "\u001b[?25hInstalling collected packages: pycryptodome\n",
            "Successfully installed pycryptodome-3.17\n"
          ]
        }
      ]
    },
    {
      "cell_type": "code",
      "metadata": {
        "colab": {
          "base_uri": "https://localhost:8080/"
        },
        "id": "2oHuRMv-OqwW",
        "outputId": "c58de7e5-f1ac-4da8-b5cf-ad8648500369"
      },
      "source": [
        "# Define a 16-byte input sequence\n",
        "abytes = b'abcdefghijklmnop'\n",
        "print('abytes: ',abytes)\n",
        "# define a key in hex format\n",
        "deskey = bytes.fromhex(\"0f1571c947d9e859\")\n",
        "print('deskey: ', deskey)\n",
        "# DES cipher to encrypt\n",
        "des_cipher = DES.new(deskey, DES.MODE_ECB)\n",
        "desciphertext = des_cipher.encrypt(abytes)\n",
        "print(desciphertext)\n",
        "print(len(desciphertext))\n",
        "\n",
        "# Also define AES cipher to encrypt\n",
        "aeskey = bytes.fromhex(\"0f1571c947d9e859958e9d7438414f0a\")\n",
        "#aeskey = bytes.fromhex(\"00000000000000000000000000000000\")\n",
        "aes_cipher = AES.new(aeskey, AES.MODE_ECB)\n",
        "aesciphertext = aes_cipher.encrypt(abytes)\n",
        "print(aesciphertext)\n",
        "print(len(aesciphertext))"
      ],
      "execution_count": 2,
      "outputs": [
        {
          "output_type": "stream",
          "name": "stdout",
          "text": [
            "abytes:  b'abcdefghijklmnop'\n",
            "deskey:  b'\\x0f\\x15q\\xc9G\\xd9\\xe8Y'\n",
            "b'\\xe8\\xe9\\xc24\\xad\\t\\xd0\\xa5r\\xe3\\xaf\\xdf\\x7fO9\\xa2'\n",
            "16\n",
            "b'\\xfdL\\xe2\\xb7C\\n\"\\x0b\\x11\\x9d\\x90\\x8ceR\\xb3\\xd8'\n",
            "16\n"
          ]
        }
      ]
    },
    {
      "cell_type": "code",
      "source": [
        "# We can use this opportunity to also practice the decryption workflow using the crypto package\n",
        "desplaintext = des_cipher.decrypt(desciphertext)\n",
        "# verify if the originl plaintext is retrieved\n",
        "print(desplaintext)\n",
        "print(desplaintext==abytes)\n",
        "\n",
        "aesplaintext = aes_cipher.decrypt(aesciphertext)\n",
        "# verify if the originl plaintext is retrieved\n",
        "print(aesplaintext)\n",
        "print(aesplaintext==abytes)\n",
        "\n"
      ],
      "metadata": {
        "colab": {
          "base_uri": "https://localhost:8080/"
        },
        "id": "AOcQvfuksHne",
        "outputId": "5a06cb2b-b8d1-4736-8da7-49432f9d9871"
      },
      "execution_count": null,
      "outputs": [
        {
          "output_type": "stream",
          "name": "stdout",
          "text": [
            "b'abcdefghijklmnop'\n",
            "True\n",
            "b'abcdefghijklmnop'\n",
            "True\n"
          ]
        }
      ]
    }
  ]
}