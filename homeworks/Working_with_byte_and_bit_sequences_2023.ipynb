{
  "cells": [
    {
      "cell_type": "code",
      "execution_count": null,
      "metadata": {
        "colab": {
          "base_uri": "https://localhost:8080/"
        },
        "id": "fMRF1hi7-zKt",
        "outputId": "c786abe4-14ad-47ec-b981-d4c528e97d79"
      },
      "outputs": [
        {
          "output_type": "stream",
          "name": "stdout",
          "text": [
            "bytelist:  ['0x12', '0xfa', '0xaa', '0xf']\n",
            "intlist:  [18, 250, 170, 15]\n",
            "0b1101\n",
            "bitslist1:  ['00010010', '11111010', '10101010', '00001111']\n",
            "bitslist2:  ['00010010', '11111010', '10101010', '00001111']\n",
            "allbits:  00010010111110101010101000001111\n",
            "allbitslist:  ['0', '0', '0', '1', '0', '0', '1', '0', '1', '1', '1', '1', '1', '0', '1', '0', '1', '0', '1', '0', '1', '0', '1', '0', '0', '0', '0', '0', '1', '1', '1', '1']\n",
            "allbits48:  000000000000000000010010111110101010101000001111\n",
            "b8list:  ['00000000', '00000000', '00010010', '11111010', '10101010', '00001111']\n",
            "midint:  11\n",
            "outerint:  2\n",
            "13\n",
            "0xd\n",
            "0b1101\n"
          ]
        }
      ],
      "source": [
        "# Helpful byte and bit processing\n",
        "# We typically read files to encode in binary format as a byte sequence and below is some of\n",
        "# the many ways you can manipulate the byte values and convert between bytes, bits, lists, etc.\n",
        "# Feel free to find other ways to achieve what you need by searching on the Internet.\n",
        "\n",
        "# Here I'm limiting the example byte sequence to one 32bits block. In reality you will\n",
        "# break your original byte sequence to as many such 64bits or 128bits blocks as needed and process\n",
        "# them one by one\n",
        "byteseq = b'\\x12\\xfa\\xaa\\x0f'\n",
        "\n",
        "# example1: convert to list of integers\n",
        "bytelist = [hex(elem) for elem in byteseq]\n",
        "print(\"bytelist: \",bytelist)\n",
        "intlist = [int(b) for b in byteseq]\n",
        "print(\"intlist: \",intlist)\n",
        "\n",
        "# example2: convert the integers list to list of 8 bits\n",
        "print(bin(13))\n",
        "bitslist1 = [bin(i)[2:].zfill(8) for i in intlist]\n",
        "print(\"bitslist1: \",bitslist1)\n",
        "# example3: or directly from the bytes\n",
        "bitslist2 = [bin(int(b))[2:].zfill(8) for b in byteseq]\n",
        "print(\"bitslist2: \",bitslist2)\n",
        "\n",
        "# example4: convert to one big binary string\n",
        "allbits = ''.join(bitslist2)\n",
        "print(\"allbits: \",allbits)\n",
        "\n",
        "# example5: we can also convert the string of bits into a list of bits\n",
        "# For cases where we need to insert some bits into a bit sequence it's\n",
        "# easier to work with lists in python. This is not the most efficient\n",
        "# implementation for real cipher implementations in terms of execution\n",
        "# speed but is more clear for our educational purposes\n",
        "allbitslist = [b for b in allbits]\n",
        "print(\"allbitslist: \",allbitslist)\n",
        "\n",
        "# example6: I can use the zfill function for strings to add enough '0's to the beginning of\n",
        "# allbits string to make its length 48 (i.e., Expansion)\n",
        "allbits48 = allbits.zfill(48)\n",
        "print(\"allbits48: \",allbits48)\n",
        "\n",
        "# example7: break into 8 bit blocks\n",
        "b8list = [allbits48[i:i+8] for i in range(0,len(allbits48), 8)]\n",
        "print(\"b8list: \", b8list)\n",
        "\n",
        "# example8: isolating the middle 4 bits of a 6 bit block and convert to integer\n",
        "# example: 110110 should result in 1011 which is 11 decimal\n",
        "bitseq6 = '110110'\n",
        "midint = int(bitseq6[1:5],base=2)  # int() function converts the string to decimal and 2 means string is a binary number\n",
        "print(\"midint: \", midint)\n",
        "\n",
        "# example9: isolating first and last bits of the 6 bit string and converting to decimal\n",
        "outerint = int(bitseq6[0]+bitseq6[5],base=2)\n",
        "print(\"outerint: \",outerint)\n",
        "\n",
        "# you can also represent numbers directly in binary (not as a string)\n",
        "bin1 = b'001101'\n",
        "# and you can generate the integer representation the same way as before\n",
        "bin1_int = int(bin1, base=2)\n",
        "print(bin1_int)\n",
        "\n",
        "\n",
        "# a simple way to convert from integer to hex or binary is the use of hex() and bin()\n",
        "# functions which output the result as string\n",
        "print(hex(bin1_int))\n",
        "print(bin(bin1_int))\n",
        "\n",
        "# Given the above transformations, we can define all types of transformation utility functions\n",
        "# for example a function to convert a given byte sequence to a string representation of bits\n",
        "def byteseq2binstr(byteseq):\n",
        "    # first convert to a list string binary representations of each byte\n",
        "    bitslist2 = [bin(int(b))[2:].zfill(8) for b in byteseq]\n",
        "    \n",
        "    # then merge all those strings\n",
        "    allbitsstr = ''.join(bitslist2)\n",
        "    \n",
        "    return allbitsstr\n",
        "    \n",
        "\n"
      ]
    }
  ],
  "metadata": {
    "kernelspec": {
      "display_name": "Python 3",
      "language": "python",
      "name": "python3"
    },
    "language_info": {
      "codemirror_mode": {
        "name": "ipython",
        "version": 3
      },
      "file_extension": ".py",
      "mimetype": "text/x-python",
      "name": "python",
      "nbconvert_exporter": "python",
      "pygments_lexer": "ipython3",
      "version": "3.7.4"
    },
    "colab": {
      "provenance": []
    }
  },
  "nbformat": 4,
  "nbformat_minor": 0
}